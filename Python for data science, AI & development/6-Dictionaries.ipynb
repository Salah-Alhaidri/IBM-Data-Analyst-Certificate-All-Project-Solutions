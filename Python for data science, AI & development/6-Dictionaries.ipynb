{
 "cells": [
  {
   "cell_type": "code",
   "execution_count": 19,
   "metadata": {},
   "outputs": [
    {
     "name": "stdout",
     "output_type": "stream",
     "text": [
      "example_dict: {'key1': 1, 'key2': '2', 'key3': [3, 3, 3], 'key4': (4, 4, 4), 'key5': 5, (0, 1): 6}\n"
     ]
    }
   ],
   "source": [
    "# Create the dictionary\n",
    "example_dict = {\"key1\": 1, \"key2\": \"2\", \"key3\": [3, 3, 3], \"key4\": (4, 4, 4), ('key5'): 5, (0, 1): 6}\n",
    "print(\"example_dict:\", example_dict)"
   ]
  },
  {
   "cell_type": "code",
   "execution_count": 20,
   "metadata": {},
   "outputs": [],
   "source": [
    "salhs_dic={\"name \":'salhas',\"number\":798309489034803}"
   ]
  },
  {
   "cell_type": "code",
   "execution_count": 21,
   "metadata": {},
   "outputs": [
    {
     "name": "stdout",
     "output_type": "stream",
     "text": [
      "example_dict['key1']: (4, 4, 4)\n",
      "example_dict[(0, 1)]: 6\n"
     ]
    }
   ],
   "source": [
    "# Access to the value by the key\n",
    "print(\"example_dict['key1']:\", example_dict[\"key4\"])\n",
    "\n",
    "# Access to the value by the key (tuple)\n",
    "print(\"example_dict[(0, 1)]:\", example_dict[(0, 1)])"
   ]
  },
  {
   "cell_type": "code",
   "execution_count": 22,
   "metadata": {},
   "outputs": [],
   "source": [
    "# Create a sample dictionary with Arabic album names\n",
    "album_release_years = {\n",
    "    \"Alshouq\": \"1982\",  # Thriller\n",
    "    \"Tesani\": \"1980\",   # Back in Black\n",
    "    \"Alqamar Almutakamil\": \"1973\",  # The Dark Side of the Moon\n",
    "    \"Alhafiz\": \"1992\",  # The Bodyguard\n",
    "    \"Alkhuruj min Aljahannam\": \"1977\",  # Bat Out of Hell\n",
    "    \"Aghani Alzaman\": \"1976\",  # Their Greatest Hits (1971-1975)\n",
    "    \"Laylat Alhaz\": \"1977\",  # Saturday Night Fever\n",
    "    \"Alashaiya\": \"1977\"  # Rumours\n",
    "}"
   ]
  },
  {
   "cell_type": "code",
   "execution_count": 23,
   "metadata": {},
   "outputs": [
    {
     "name": "stdout",
     "output_type": "stream",
     "text": [
      "album_release_years: {'Alshouq': '1982', 'Tesani': '1980', 'Alqamar Almutakamil': '1973', 'Alhafiz': '1992', 'Alkhuruj min Aljahannam': '1977', 'Aghani Alzaman': '1976', 'Laylat Alhaz': '1977', 'Alashaiya': '1977'}\n",
      "album_release_years['Alshouq']: 1982\n"
     ]
    }
   ],
   "source": [
    "print(\"album_release_years:\", album_release_years)\n",
    "\n",
    "# Get value by keys\n",
    "print(\"album_release_years['Alshouq']:\", album_release_years['Alshouq'])"
   ]
  },
  {
   "cell_type": "code",
   "execution_count": 24,
   "metadata": {},
   "outputs": [
    {
     "name": "stdout",
     "output_type": "stream",
     "text": [
      "album_release_years['Alhafiz']: 1992\n",
      "album_release_years.keys(): dict_keys(['Alshouq', 'Tesani', 'Alqamar Almutakamil', 'Alhafiz', 'Alkhuruj min Aljahannam', 'Aghani Alzaman', 'Laylat Alhaz', 'Alashaiya'])\n"
     ]
    }
   ],
   "source": [
    "# Get value by key\n",
    "print(\"album_release_years['Alhafiz']:\", album_release_years['Alhafiz'])\n",
    "\n",
    "# Get all the keys in dictionary\n",
    "print(\"album_release_years.keys():\", album_release_years.keys())"
   ]
  },
  {
   "cell_type": "code",
   "execution_count": 25,
   "metadata": {},
   "outputs": [
    {
     "name": "stdout",
     "output_type": "stream",
     "text": [
      "album_release_years.values(): dict_values(['1982', '1980', '1973', '1992', '1977', '1976', '1977', '1977'])\n",
      "album_release_years after adding 'Altafawuq': {'Alshouq': '1982', 'Tesani': '1980', 'Alqamar Almutakamil': '1973', 'Alhafiz': '1992', 'Alkhuruj min Aljahannam': '1977', 'Aghani Alzaman': '1976', 'Laylat Alhaz': '1977', 'Alashaiya': '1977', 'Altafawuq': '2007'}\n"
     ]
    }
   ],
   "source": [
    "# Get all the values in dictionary\n",
    "print(\"album_release_years.values():\", album_release_years.values())\n",
    "\n",
    "# Append value with key into dictionary\n",
    "album_release_years['Altafawuq'] = '2007'  # Graduation\n",
    "print(\"album_release_years after adding 'Altafawuq':\", album_release_years)"
   ]
  },
  {
   "cell_type": "code",
   "execution_count": 26,
   "metadata": {},
   "outputs": [
    {
     "name": "stdout",
     "output_type": "stream",
     "text": [
      "album_release_years after deleting 'Alshouq' and 'Altafawuq': {'Tesani': '1980', 'Alqamar Almutakamil': '1973', 'Alhafiz': '1992', 'Alkhuruj min Aljahannam': '1977', 'Aghani Alzaman': '1976', 'Laylat Alhaz': '1977', 'Alashaiya': '1977'}\n"
     ]
    }
   ],
   "source": [
    "# Delete entries by key\n",
    "del album_release_years['Alshouq']\n",
    "del album_release_years['Altafawuq']\n",
    "print(\"album_release_years after deleting 'Alshouq' and 'Altafawuq':\", album_release_years)"
   ]
  },
  {
   "cell_type": "code",
   "execution_count": 27,
   "metadata": {},
   "outputs": [
    {
     "name": "stdout",
     "output_type": "stream",
     "text": [
      "'Alhafiz' in album_release_years: True\n",
      "soundtrack_dict: {'Alhafiz': '1992', 'Laylat Alhaz': '1977'}\n"
     ]
    }
   ],
   "source": [
    "# Verify the key is in the dictionary\n",
    "print(\"'Alhafiz' in album_release_years:\", 'Alhafiz' in album_release_years)\n",
    "\n",
    "# Question sample dictionary\n",
    "soundtrack_dict = {\"Alhafiz\": \"1992\", \"Laylat Alhaz\": \"1977\"}\n",
    "print(\"soundtrack_dict:\", soundtrack_dict)"
   ]
  },
  {
   "cell_type": "code",
   "execution_count": 28,
   "metadata": {},
   "outputs": [
    {
     "name": "stdout",
     "output_type": "stream",
     "text": [
      "soundtrack_dict.keys(): dict_keys(['Alhafiz', 'Laylat Alhaz'])\n",
      "soundtrack_dict.values(): dict_values(['1992', '1977'])\n"
     ]
    }
   ],
   "source": [
    "# a) In the dictionary soundtrack_dict what are the keys?\n",
    "print(\"soundtrack_dict.keys():\", soundtrack_dict.keys())\n",
    "\n",
    "# b) In the dictionary soundtrack_dict what are the values?\n",
    "print(\"soundtrack_dict.values():\", soundtrack_dict.values())"
   ]
  },
  {
   "cell_type": "code",
   "execution_count": 29,
   "metadata": {},
   "outputs": [
    {
     "name": "stdout",
     "output_type": "stream",
     "text": [
      "album_sales_data: {'Tesani': 50, 'Alhafiz': 50, 'Alshouq': 65}\n",
      "album_sales_data['Alshouq']: 65\n"
     ]
    }
   ],
   "source": [
    "# a) Create a dictionary album_sales_data where the keys are the album name and the sales in millions are the values.\n",
    "album_sales_data = {\"Tesani\": 50, \"Alhafiz\": 50, \"Alshouq\": 65}\n",
    "print(\"album_sales_data:\", album_sales_data)\n",
    "\n",
    "# b) Use the dictionary to find the total sales of Alshouq:\n",
    "print(\"album_sales_data['Alshouq']:\", album_sales_data['Alshouq'])"
   ]
  },
  {
   "cell_type": "code",
   "execution_count": 30,
   "metadata": {},
   "outputs": [
    {
     "name": "stdout",
     "output_type": "stream",
     "text": [
      "album_sales_data.keys(): dict_keys(['Tesani', 'Alhafiz', 'Alshouq'])\n",
      "album_sales_data.values(): dict_values([50, 50, 65])\n"
     ]
    }
   ],
   "source": [
    "# c) Find the names of the albums from the dictionary using the method keys():\n",
    "print(\"album_sales_data.keys():\", album_sales_data.keys())\n",
    "\n",
    "# d) Find the values of the recording sales from the dictionary using the method values():\n",
    "print(\"album_sales_data.values():\", album_sales_data.values())"
   ]
  }
 ],
 "metadata": {
  "kernelspec": {
   "display_name": "Python 3 (ipykernel)",
   "language": "python",
   "name": "python3"
  },
  "language_info": {
   "codemirror_mode": {
    "name": "ipython",
    "version": 3
   },
   "file_extension": ".py",
   "mimetype": "text/x-python",
   "name": "python",
   "nbconvert_exporter": "python",
   "pygments_lexer": "ipython3",
   "version": "3.11.5"
  }
 },
 "nbformat": 4,
 "nbformat_minor": 4
}
