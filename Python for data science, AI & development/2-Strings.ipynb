{
 "cells": [
  {
   "cell_type": "code",
   "execution_count": 2,
   "metadata": {},
   "outputs": [
    {
     "name": "stdout",
     "output_type": "stream",
     "text": [
      "Salah Saeed\n",
      "Salah Saeed\n",
      "1 2 3 4 5 6 \n",
      "@#2_#]&*^%$\n"
     ]
    }
   ],
   "source": [
    "# String Operations in Python\n",
    "\n",
    "# 1. What are Strings?\n",
    "# Strings are sequences of characters enclosed in single or double quotes.\n",
    "print(\"Salah Saeed\")  # Double quotes\n",
    "print('Salah Saeed')  # Single quotes\n",
    "print('1 2 3 4 5 6 ')     # Digits and spaces\n",
    "print('@#2_#]&*^%$')      # Special characters"
   ]
  },
  {
   "cell_type": "code",
   "execution_count": 3,
   "metadata": {},
   "outputs": [
    {
     "name": "stdout",
     "output_type": "stream",
     "text": [
      "hello!\n"
     ]
    }
   ],
   "source": [
    "# Printing strings\n",
    "print(\"hello!\")"
   ]
  },
  {
   "cell_type": "code",
   "execution_count": 4,
   "metadata": {},
   "outputs": [
    {
     "name": "stdout",
     "output_type": "stream",
     "text": [
      "Salah Saeed\n"
     ]
    }
   ],
   "source": [
    "# Assigning strings to variables\n",
    "artist_name = \"Salah Saeed\"\n",
    "print(artist_name)"
   ]
  },
  {
   "cell_type": "code",
   "execution_count": 5,
   "metadata": {},
   "outputs": [
    {
     "name": "stdout",
     "output_type": "stream",
     "text": [
      "S\n",
      "S\n",
      "d\n"
     ]
    }
   ],
   "source": [
    "# 2. Indexing\n",
    "# Accessing individual characters using indices (zero-based)\n",
    "print(artist_name[0])   # Output: S\n",
    "print(artist_name[6])   # Output: S\n",
    "print(artist_name[10])  # Output: d"
   ]
  },
  {
   "cell_type": "code",
   "execution_count": null,
   "metadata": {},
   "outputs": [],
   "source": []
  },
  {
   "cell_type": "code",
   "execution_count": 6,
   "metadata": {},
   "outputs": [
    {
     "name": "stdout",
     "output_type": "stream",
     "text": [
      "d\n",
      "S\n"
     ]
    }
   ],
   "source": [
    "# Negative Indexing (accessing from the end)\n",
    "print(artist_name[-1])   # Output: d (last character)\n",
    "print(artist_name[-11])  # Output: S (first character)"
   ]
  },
  {
   "cell_type": "code",
   "execution_count": 7,
   "metadata": {},
   "outputs": [
    {
     "name": "stdout",
     "output_type": "stream",
     "text": [
      "Salah\n",
      "Saeed\n"
     ]
    }
   ],
   "source": [
    "# Slicing (extracting portions of a string)\n",
    "print(artist_name[0:5])  # Output: Salah (from index 0 to 4)\n",
    "print(artist_name[6:11]) # Output: Saeed (from index 6 to 10)"
   ]
  },
  {
   "cell_type": "code",
   "execution_count": 8,
   "metadata": {},
   "outputs": [
    {
     "name": "stdout",
     "output_type": "stream",
     "text": [
      "SlhSed\n",
      "Slh\n",
      "Salah Saeed is the best\n"
     ]
    }
   ],
   "source": [
    "# Stride (skipping characters while slicing)\n",
    "print(artist_name[::2])  # Output: Saa ae (every second character)\n",
    "print(artist_name[0:5:2]) # Output: Slh (every second character from index 0 to 4)\n",
    "\n",
    "# Concatenating Strings\n",
    "artist_statement = artist_name + \" is the best\"\n",
    "print(artist_statement)  # Output: Salah Saeed is the best"
   ]
  },
  {
   "cell_type": "code",
   "execution_count": 9,
   "metadata": {},
   "outputs": [
    {
     "name": "stdout",
     "output_type": "stream",
     "text": [
      "Salah SaeedSalah SaeedSalah Saeed\n",
      "Salah Saeed \n",
      " is the best\n",
      "Salah Saeed \t is the best\n",
      "Salah Saeed \\ is the best\n"
     ]
    }
   ],
   "source": [
    "# Replicating Strings\n",
    "print(3 * \"Salah Saeed\")  # Output: Salah SaeedSalah SaeedSalah Saeed\n",
    "\n",
    "# 3. Escape Sequences\n",
    "# Special characters in strings\n",
    "print(\"Salah Saeed \\n is the best\")  # New line\n",
    "print(\"Salah Saeed \\t is the best\")  # Tab\n",
    "print(\"Salah Saeed \\\\ is the best\")  # Backslash"
   ]
  },
  {
   "cell_type": "code",
   "execution_count": 10,
   "metadata": {},
   "outputs": [
    {
     "name": "stdout",
     "output_type": "stream",
     "text": [
      "Salah Saeed \\ is the best\n",
      "THRILLER IS THE SIXTH STUDIO ALBUM\n"
     ]
    }
   ],
   "source": [
    "# Raw Strings (ignoring escape sequences)\n",
    "print(r\"Salah Saeed \\ is the best\")  # Output: Salah Saeed \\ is the best\n",
    "\n",
    "# 4. String Operations\n",
    "# Convert to Uppercase\n",
    "album_description = \"Thriller is the sixth studio album\"\n",
    "album_description_upper = album_description.upper()\n",
    "print(album_description_upper)  # Output: THRILLER IS THE SIXTH STUDIO ALBUM"
   ]
  },
  {
   "cell_type": "code",
   "execution_count": 11,
   "metadata": {},
   "outputs": [
    {
     "name": "stdout",
     "output_type": "stream",
     "text": [
      "Ahmed Saeed is the best\n"
     ]
    }
   ],
   "source": [
    "# Replace Substrings\n",
    "artist_statement = \"Salah Saeed is the best\"\n",
    "artist_statement_new = artist_statement.replace('Salah', 'Ahmed')\n",
    "print(artist_statement_new)  # Output: Ahmed Saeed is the best"
   ]
  },
  {
   "cell_type": "code",
   "execution_count": 12,
   "metadata": {},
   "outputs": [
    {
     "name": "stdout",
     "output_type": "stream",
     "text": [
      "3\n",
      "6\n",
      "-1\n",
      "12\n"
     ]
    }
   ],
   "source": [
    "# Find Substrings\n",
    "print(artist_name.find('ah'))  # Output: 2\n",
    "print(artist_name.find('Saeed')) # Output: 6\n",
    "print(artist_name.find('random')) # Output: -1 (not found)\n",
    "\n",
    "# 5. Quiz on Strings\n",
    "# Exercise 1: Concatenate Strings\n",
    "num_str_a = \"1\"\n",
    "num_str_b = \"2\"\n",
    "num_str_c = num_str_a + num_str_b\n",
    "print(num_str_c)  # Output: 12"
   ]
  },
  {
   "cell_type": "code",
   "execution_count": 13,
   "metadata": {},
   "outputs": [
    {
     "name": "stdout",
     "output_type": "stream",
     "text": [
      "ABC\n",
      "correct\n"
     ]
    }
   ],
   "source": [
    "# Exercise 2: Slicing\n",
    "letters = \"ABCDEFG\"\n",
    "print(letters[0:3])  # Output: ABC\n",
    "\n",
    "# Exercise 3: Stride\n",
    "coded_str = 'clocrkr1e1c1t'\n",
    "decoded_str = coded_str[::2]\n",
    "print(decoded_str)  # Output: correct"
   ]
  },
  {
   "cell_type": "code",
   "execution_count": 14,
   "metadata": {},
   "outputs": [
    {
     "name": "stdout",
     "output_type": "stream",
     "text": [
      "\\\\\n",
      "YOU ARE WRONG\n"
     ]
    }
   ],
   "source": [
    "# Exercise 4: Escape Sequences\n",
    "print(\"\\\\\\\\\")  # Output: \\\\\n",
    "\n",
    "# Exercise 5: Uppercase Conversion\n",
    "error_message = \"You are wrong\"\n",
    "print(error_message.upper())  # Output: YOU ARE WRONG"
   ]
  },
  {
   "cell_type": "code",
   "execution_count": 15,
   "metadata": {},
   "outputs": [
    {
     "name": "stdout",
     "output_type": "stream",
     "text": [
      "95\n"
     ]
    }
   ],
   "source": [
    "# Exercise 6: Find Substring\n",
    "nursery_rhyme = (\n",
    "    \"Mary had a little lamb Little lamb, little lamb Mary had a little lamb \"\n",
    "    \"Its fleece was white as snow And everywhere that Mary went Mary went, Mary went \"\n",
    "    \"Everywhere that Mary went The lamb was sure to go\"\n",
    ")\n",
    "print(nursery_rhyme.find(\"snow\"))  # Output: 95"
   ]
  },
  {
   "cell_type": "code",
   "execution_count": 16,
   "metadata": {},
   "outputs": [
    {
     "name": "stdout",
     "output_type": "stream",
     "text": [
      "Bob had a little lamb Little lamb, little lamb Bob had a little lamb Its fleece was white as snow And everywhere that Bob went Bob went, Bob went Everywhere that Bob went The lamb was sure to go\n",
      "Congratulations! You have completed the lab on string operations in Python.\n"
     ]
    }
   ],
   "source": [
    "# Exercise 7: Replace Substring\n",
    "updated_rhyme = nursery_rhyme.replace('Mary', 'Bob')\n",
    "print(updated_rhyme)  # Output: Bob had a little lamb...\n",
    "\n",
    "# Conclusion\n",
    "print(\"Congratulations! You have completed the lab on string operations in Python.\")"
   ]
  }
 ],
 "metadata": {
  "kernelspec": {
   "display_name": "Python 3 (ipykernel)",
   "language": "python",
   "name": "python3"
  },
  "language_info": {
   "codemirror_mode": {
    "name": "ipython",
    "version": 3
   },
   "file_extension": ".py",
   "mimetype": "text/x-python",
   "name": "python",
   "nbconvert_exporter": "python",
   "pygments_lexer": "ipython3",
   "version": "3.11.5"
  }
 },
 "nbformat": 4,
 "nbformat_minor": 4
}
