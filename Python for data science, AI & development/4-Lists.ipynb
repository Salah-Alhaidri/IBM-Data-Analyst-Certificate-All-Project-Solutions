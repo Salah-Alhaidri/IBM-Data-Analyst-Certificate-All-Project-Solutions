{
 "cells": [
  {
   "cell_type": "code",
   "execution_count": 12,
   "metadata": {},
   "outputs": [
    {
     "name": "stdout",
     "output_type": "stream",
     "text": [
      "['Salah Saeed', 9.5, 2023]\n"
     ]
    }
   ],
   "source": [
    "# Lists in Python\n",
    "\n",
    "# 1. Create a List\n",
    "# A list is a sequenced collection of different objects such as integers, strings, and even other lists.\n",
    "salah_info = [\"Salah Saeed\", 9.5, 2023]\n",
    "print(salah_info)  # Output: ['Salah Saeed', 9.5, 2023]"
   ]
  },
  {
   "cell_type": "code",
   "execution_count": 13,
   "metadata": {},
   "outputs": [
    {
     "name": "stdout",
     "output_type": "stream",
     "text": [
      "Salah Saeed\n",
      "9.5\n",
      "2023\n"
     ]
    }
   ],
   "source": [
    "# 2. Indexing in Lists\n",
    "# Access elements using their index (zero-based).\n",
    "print(salah_info[0])  # Output: Salah Saeed\n",
    "print(salah_info[1])  # Output: 9.5\n",
    "print(salah_info[2])  # Output: 2023"
   ]
  },
  {
   "cell_type": "code",
   "execution_count": 15,
   "metadata": {},
   "outputs": [
    {
     "name": "stdout",
     "output_type": "stream",
     "text": [
      "2023\n",
      "9.5\n",
      "Salah Saeed\n"
     ]
    }
   ],
   "source": [
    "# Negative Indexing\n",
    "# Access elements from the end of the list.\n",
    "print(salah_info[-1])  # Output: 2023 (last element)\n",
    "print(salah_info[-2])  # Output: 9.5 (second last element)\n",
    "print(salah_info[-3])  # Output: Salah Saeed (third last element)"
   ]
  },
  {
   "cell_type": "code",
   "execution_count": 16,
   "metadata": {},
   "outputs": [
    {
     "name": "stdout",
     "output_type": "stream",
     "text": [
      "['Salah Saeed', 9.5, 2023, [1, 2], ('Python', 1)]\n"
     ]
    }
   ],
   "source": [
    "# 3. List Content\n",
    "# Lists can contain strings, floats, integers, nested lists, and tuples.\n",
    "salah_mixed_data = [\"Salah Saeed\", 9.5, 2023, [1, 2], (\"Python\", 1)]\n",
    "print(salah_mixed_data)  # Output: ['Salah Saeed', 9.5, 2023, [1, 2], ('Python', 1)]"
   ]
  },
  {
   "cell_type": "code",
   "execution_count": 4,
   "metadata": {},
   "outputs": [
    {
     "name": "stdout",
     "output_type": "stream",
     "text": [
      "['SS', 1]\n"
     ]
    }
   ],
   "source": [
    "# 4. List Operations\n",
    "# Slicing: Extract a portion of the list.\n",
    "updated_salah_info = [\"Salah Saeed\", 9.5, 2023, \"SS\", 1]\n",
    "print(updated_salah_info[3:5])  # Output: ['SS', 1] (elements from index 3 to 4)\n",
    "\n",
    "# Extend: Add new elements to the list.\n",
    "salah_info_extended = [\"Salah Saeed\", 9.5]\n",
    "salah_info_extended.extend(['Python', 10])"
   ]
  },
  {
   "cell_type": "code",
   "execution_count": 18,
   "metadata": {},
   "outputs": [
    {
     "name": "stdout",
     "output_type": "stream",
     "text": [
      "['Salah Saeed', 9.5, ['Python', 10]]\n"
     ]
    }
   ],
   "source": [
    "# print(salah_info_extended)  # Output: ['Salah Saeed', 9.5, 'Python', 10]\n",
    "\n",
    "# Append: Add one element (can be a list) to the list.\n",
    "salah_info_appended = [\"Salah Saeed\", 9.5]\n",
    "salah_info_appended.append(['Python', 10])\n",
    "print(salah_info_appended)  # Output: ['Salah Saeed', 9.5, ['Python', 10]]"
   ]
  },
  {
   "cell_type": "code",
   "execution_count": 5,
   "metadata": {},
   "outputs": [
    {
     "name": "stdout",
     "output_type": "stream",
     "text": [
      "['Salah Saeed', 9.5, 'Python', 10]\n",
      "['Salah Saeed', 9.5, ['Python', 10]]\n",
      "Before change: ['Rock', 8.5, 1.5]\n",
      "After change: ['Pop', 8.5, 1.5]\n"
     ]
    }
   ],
   "source": [
    "# Change an element in the list.\n",
    "salah_genre_list = [\"Rock\", 8.5, 1.5]\n",
    "print('Before change:', salah_genre_list)  # Output: ['Rock', 8.5, 1.5]\n",
    "salah_genre_list[0] = 'Pop'\n",
    "print('After change:', salah_genre_list)  # Output: ['Pop', 8.5, 1.5]"
   ]
  },
  {
   "cell_type": "code",
   "execution_count": 6,
   "metadata": {},
   "outputs": [
    {
     "name": "stdout",
     "output_type": "stream",
     "text": [
      "Before change: ['Pop', 8.5, 1.5]\n",
      "After change: [8.5, 1.5]\n",
      "['Pop', 'Rock']\n"
     ]
    }
   ],
   "source": [
    "# Delete an element from the list.\n",
    "print('Before change:', salah_genre_list)  # Output: ['Pop', 8.5, 1.5]\n",
    "del(salah_genre_list[0])\n",
    "print('After change:', salah_genre_list)  # Output: [8.5, 1.5]\n",
    "\n",
    "# Split a string into a list.\n",
    "salah_split_genre = 'Pop Rock'.split()\n",
    "print(salah_split_genre)  # Output: ['Pop', 'Rock']"
   ]
  },
  {
   "cell_type": "code",
   "execution_count": 7,
   "metadata": {},
   "outputs": [
    {
     "name": "stdout",
     "output_type": "stream",
     "text": [
      "['A', 'B', 'C', 'D']\n",
      "Original List: ['Python', 10, 1.5]\n",
      "Copied List: ['Python', 10, 1.5]\n"
     ]
    }
   ],
   "source": [
    "# Split a string by a specific delimiter (comma).\n",
    "salah_split_string_comma = 'A,B,C,D'.split(',')\n",
    "print(salah_split_string_comma)  # Output: ['A', 'B', 'C', 'D']\n",
    "\n",
    "# 5. Copy and Clone List\n",
    "# Copy by reference: Both lists point to the same memory location.\n",
    "salah_original_list = [\"Python\", 10, 1.5]\n",
    "salah_copied_list = salah_original_list\n",
    "print('Original List:', salah_original_list)  # Output: ['Python', 10, 1.5]\n",
    "print('Copied List:', salah_copied_list)  # Output: ['Python', 10, 1.5]"
   ]
  },
  {
   "cell_type": "code",
   "execution_count": 8,
   "metadata": {},
   "outputs": [
    {
     "name": "stdout",
     "output_type": "stream",
     "text": [
      "Copied List after change: ['Java', 10, 1.5]\n",
      "Cloned List: ['Java', 10, 1.5]\n",
      "Cloned List after change: ['Java', 10, 1.5]\n"
     ]
    }
   ],
   "source": [
    "# Changing the original list affects the copied list.\n",
    "salah_original_list[0] = \"Java\"\n",
    "print('Copied List after change:', salah_copied_list)  # Output: ['Java', 10, 1.5]\n",
    "\n",
    "# Clone by value: Create a new copy of the list.\n",
    "salah_cloned_list = salah_original_list[:]\n",
    "print('Cloned List:', salah_cloned_list)  # Output: ['Java', 10, 1.5]\n",
    "\n",
    "# Changing the original list does not affect the cloned list.\n",
    "salah_original_list[0] = \"Python\"\n",
    "print('Cloned List after change:', salah_cloned_list)  # Output: ['Java', 10, 1.5]"
   ]
  },
  {
   "cell_type": "code",
   "execution_count": 9,
   "metadata": {},
   "outputs": [
    {
     "name": "stdout",
     "output_type": "stream",
     "text": [
      "[1, 'hello', [1, 2, 3], True]\n",
      "hello\n"
     ]
    }
   ],
   "source": [
    "# 6. Quiz on Lists\n",
    "# Create a list with elements: 1, \"hello\", [1, 2, 3], and True.\n",
    "salah_quiz_list = [1, \"hello\", [1, 2, 3], True]\n",
    "print(salah_quiz_list)  # Output: [1, 'hello', [1, 2, 3], True]\n",
    "\n",
    "# Access the element at index 1.\n",
    "print(salah_quiz_list[1])  # Output: hello"
   ]
  },
  {
   "cell_type": "code",
   "execution_count": 10,
   "metadata": {},
   "outputs": [
    {
     "name": "stdout",
     "output_type": "stream",
     "text": [
      "['hello', [1, 2, 3], True]\n"
     ]
    }
   ],
   "source": [
    "# Retrieve elements at index 1, 2, and 3.\n",
    "print(salah_quiz_list[1:4])  # Output: ['hello', [1, 2, 3], True]"
   ]
  },
  {
   "cell_type": "code",
   "execution_count": 11,
   "metadata": {},
   "outputs": [
    {
     "name": "stdout",
     "output_type": "stream",
     "text": [
      "[1, 'a', 2, 1, 'd']\n"
     ]
    }
   ],
   "source": [
    "# Concatenate two lists.\n",
    "salah_list_A = [1, 'a']\n",
    "salah_list_B = [2, 1, 'd']\n",
    "salah_concatenated_list = salah_list_A + salah_list_B\n",
    "print(salah_concatenated_list)  # Output: [1, 'a', 2, 1, 'd']"
   ]
  },
  {
   "cell_type": "code",
   "execution_count": null,
   "metadata": {},
   "outputs": [],
   "source": []
  }
 ],
 "metadata": {
  "kernelspec": {
   "display_name": "Python 3 (ipykernel)",
   "language": "python",
   "name": "python3"
  },
  "language_info": {
   "codemirror_mode": {
    "name": "ipython",
    "version": 3
   },
   "file_extension": ".py",
   "mimetype": "text/x-python",
   "name": "python",
   "nbconvert_exporter": "python",
   "pygments_lexer": "ipython3",
   "version": "3.11.5"
  }
 },
 "nbformat": 4,
 "nbformat_minor": 4
}
