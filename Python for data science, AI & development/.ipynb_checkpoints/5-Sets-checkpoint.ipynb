{
 "cells": [
  {
   "cell_type": "code",
   "execution_count": 1,
   "metadata": {},
   "outputs": [
    {
     "name": "stdout",
     "output_type": "stream",
     "text": [
      "{'Salah', 'Saeed', 'Ali', 'Nacer', 'Mohammad'}\n"
     ]
    }
   ],
   "source": [
    "# Sets in Python\n",
    "\n",
    "# 1. Create a Set\n",
    "# A set is a unique collection of objects in Python. Duplicates are automatically removed.\n",
    "names_set = {\"Salah\", \"Ali\", \"Mohammad\", \"Nacer\", \"Ali\", \"Saeed\"}\n",
    "print(names_set)  # Output: {'Salah', 'Ali', 'Mohammad', 'Nacer', 'Saeed'}"
   ]
  },
  {
   "cell_type": "code",
   "execution_count": 11,
   "metadata": {},
   "outputs": [
    {
     "name": "stdout",
     "output_type": "stream",
     "text": [
      "{'Salah Saeed', 65, '30-Nov-23', 2023, 10.0, '00:42:19', 46.0, None, 'Group of Friends', 'Ali Nacer'}\n"
     ]
    }
   ],
   "source": [
    "# 2. Convert List to Set\n",
    "# You can create a set from a list.\n",
    "people_details = [\"Salah Saeed\", \"Ali Nacer\", 2023, \"00:42:19\", \"Group of Friends\", 46.0, 65, \"30-Nov-23\", None, 10.0]\n",
    "people_set = set(people_details)\n",
    "print(people_set)  # Output: {'Salah Saeed', 'Ali Nacer', 2023, '00:42:19', 'Group of Friends', 46.0, 65, '30-Nov-23', None, 10.0}"
   ]
  },
  {
   "cell_type": "code",
   "execution_count": 3,
   "metadata": {},
   "outputs": [
    {
     "name": "stdout",
     "output_type": "stream",
     "text": [
      "{'Salah', 'Ali', 'Mohammad'}\n"
     ]
    }
   ],
   "source": [
    "# 3. Set Operations\n",
    "# Create a sample set.\n",
    "favorite_people = {\"Salah\", \"Ali\", \"Mohammad\"}\n",
    "print(favorite_people)  # Output: {'Salah', 'Ali', 'Mohammad'}"
   ]
  },
  {
   "cell_type": "code",
   "execution_count": 4,
   "metadata": {},
   "outputs": [
    {
     "name": "stdout",
     "output_type": "stream",
     "text": [
      "{'Salah', 'Nacer', 'Ali', 'Mohammad'}\n",
      "{'Salah', 'Nacer', 'Ali', 'Mohammad'}\n",
      "{'Salah', 'Nacer', 'Mohammad'}\n"
     ]
    }
   ],
   "source": [
    "# Add an element to the set.\n",
    "favorite_people.add(\"Nacer\")\n",
    "print(favorite_people)  # Output: {'Salah', 'Ali', 'Mohammad', 'Nacer'}\n",
    "\n",
    "# Try to add a duplicate element (nothing happens).\n",
    "favorite_people.add(\"Ali\")\n",
    "print(favorite_people)  # Output: {'Salah', 'Ali', 'Mohammad', 'Nacer'}\n",
    "\n",
    "# Remove an element from the set.\n",
    "favorite_people.remove(\"Ali\")\n",
    "print(favorite_people)  # Output: {'Salah', 'Mohammad', 'Nacer'}"
   ]
  },
  {
   "cell_type": "code",
   "execution_count": 5,
   "metadata": {},
   "outputs": [
    {
     "name": "stdout",
     "output_type": "stream",
     "text": [
      "True\n",
      "{'Salah', 'Nacer', 'Ali'}\n",
      "{'Saeed', 'Ali', 'Mohammad'}\n",
      "{'Ali'}\n"
     ]
    }
   ],
   "source": [
    "# Verify if an element is in the set.\n",
    "print(\"Mohammad\" in favorite_people)  # Output: True\n",
    "\n",
    "# 4. Set Logic Operations\n",
    "# Create two sample sets.\n",
    "group1 = {\"Salah\", \"Ali\", \"Nacer\"}\n",
    "group2 = {\"Ali\", \"Saeed\", \"Mohammad\"}\n",
    "print(group1)  # Output: {'Salah', 'Ali', 'Nacer'}\n",
    "print(group2)  # Output: {'Ali', 'Saeed', 'Mohammad'}\n",
    "\n",
    "# Find the intersection of two sets.\n",
    "intersection = group1 & group2\n",
    "print(intersection)  # Output: {'Ali'}"
   ]
  },
  {
   "cell_type": "code",
   "execution_count": 6,
   "metadata": {},
   "outputs": [
    {
     "name": "stdout",
     "output_type": "stream",
     "text": [
      "{'Salah', 'Nacer'}\n",
      "{'Ali', 'Saeed', 'Salah', 'Nacer', 'Mohammad'}\n",
      "False\n",
      "False\n"
     ]
    }
   ],
   "source": [
    "# Find the difference between two sets.\n",
    "difference = group1.difference(group2)\n",
    "print(difference)  # Output: {'Salah', 'Nacer'}\n",
    "\n",
    "# Find the union of two sets.\n",
    "union = group1.union(group2)\n",
    "print(union)  # Output: {'Salah', 'Ali', 'Nacer', 'Saeed', 'Mohammad'}\n",
    "\n",
    "# Check if one set is a superset of another.\n",
    "print(group1.issuperset(group2))  # Output: False\n",
    "\n",
    "# Check if one set is a subset of another.\n",
    "print(group2.issubset(group1))  # Output: False"
   ]
  },
  {
   "cell_type": "code",
   "execution_count": 7,
   "metadata": {},
   "outputs": [
    {
     "name": "stdout",
     "output_type": "stream",
     "text": [
      "True\n",
      "True\n"
     ]
    }
   ],
   "source": [
    "# Check if a specific set is a subset.\n",
    "print({\"Ali\", \"Nacer\"}.issubset(group1))  # Output: True\n",
    "\n",
    "# Check if a specific set is a superset.\n",
    "print(group1.issuperset({\"Ali\", \"Nacer\"}))  # Output: True"
   ]
  },
  {
   "cell_type": "code",
   "execution_count": 8,
   "metadata": {},
   "outputs": [
    {
     "name": "stdout",
     "output_type": "stream",
     "text": [
      "{'Salah', 'Nacer', 'Ali'}\n"
     ]
    }
   ],
   "source": [
    "# 5. Quiz on Sets\n",
    "# Convert a list to a set.\n",
    "friends = set([\"Salah\", \"Ali\", \"Nacer\", \"Salah\"])\n",
    "print(friends)  # Output: {'Salah', 'Ali', 'Nacer'}"
   ]
  },
  {
   "cell_type": "code",
   "execution_count": 9,
   "metadata": {},
   "outputs": [
    {
     "name": "stdout",
     "output_type": "stream",
     "text": [
      "6\n",
      "3\n"
     ]
    }
   ],
   "source": [
    "# Compare sums of a list and a set.\n",
    "list_A = [1, 2, 2, 1]\n",
    "set_B = set([1, 2, 2, 1])\n",
    "print(sum(list_A))  # Output: 6\n",
    "print(sum(set_B))  # Output: 3"
   ]
  },
  {
   "cell_type": "code",
   "execution_count": 10,
   "metadata": {},
   "outputs": [
    {
     "name": "stdout",
     "output_type": "stream",
     "text": [
      "{'Ali', 'Saeed', 'Salah', 'Nacer', 'Mohammad'}\n",
      "True\n"
     ]
    }
   ],
   "source": [
    "# Create a new set as the union of two sets.\n",
    "group3 = group1.union(group2)\n",
    "print(group3)  # Output: {'Salah', 'Ali', 'Nacer', 'Saeed', 'Mohammad'}\n",
    "\n",
    "# Check if one set is a subset of another.\n",
    "print(group1.issubset(group3))  # Output: True"
   ]
  }
 ],
 "metadata": {
  "kernelspec": {
   "display_name": "Python 3 (ipykernel)",
   "language": "python",
   "name": "python3"
  },
  "language_info": {
   "codemirror_mode": {
    "name": "ipython",
    "version": 3
   },
   "file_extension": ".py",
   "mimetype": "text/x-python",
   "name": "python",
   "nbconvert_exporter": "python",
   "pygments_lexer": "ipython3",
   "version": "3.11.5"
  }
 },
 "nbformat": 4,
 "nbformat_minor": 4
}
