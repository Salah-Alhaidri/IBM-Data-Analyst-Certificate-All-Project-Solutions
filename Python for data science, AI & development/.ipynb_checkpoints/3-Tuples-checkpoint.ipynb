{
 "cells": [
  {
   "cell_type": "code",
   "execution_count": 8,
   "metadata": {},
   "outputs": [
    {
     "name": "stdout",
     "output_type": "stream",
     "text": [
      "('disco', 10, 1.2)\n",
      "<class 'tuple'>\n",
      "salah\n",
      "disco\n",
      "10\n",
      "1.2\n"
     ]
    }
   ],
   "source": [
    "# Tuples in Python\n",
    "\n",
    "# 1. Create a Tuple\n",
    "# A tuple can contain different data types like strings, integers, and floats.\n",
    "music_tuple = (\"disco\", 10, 1.2)\n",
    "print(music_tuple)  # Output: ('disco', 10, 1.2)\n",
    "\n",
    "# Check the type of the tuple\n",
    "print(type(music_tuple))  # Output: <class 'tuple'>\n",
    "\n",
    "# 2. Indexing in Tuples\n",
    "# Access elements using their index (zero-based).\n",
    "print(music_tuple[0])  # Output: disco\n",
    "print(music_tuple[1])  # Output: 10\n",
    "print(music_tuple[2])  # Output: 1.2"
   ]
  },
  {
   "cell_type": "code",
   "execution_count": 2,
   "metadata": {},
   "outputs": [
    {
     "name": "stdout",
     "output_type": "stream",
     "text": [
      "<class 'str'>\n",
      "<class 'int'>\n",
      "<class 'float'>\n",
      "1.2\n",
      "10\n",
      "disco\n"
     ]
    }
   ],
   "source": [
    "# Check the type of each element\n",
    "print(type(music_tuple[0]))  # Output: <class 'str'>\n",
    "print(type(music_tuple[1]))  # Output: <class 'int'>\n",
    "print(type(music_tuple[2]))  # Output: <class 'float'>\n",
    "\n",
    "# Negative Indexing\n",
    "# Access elements from the end of the tuple.\n",
    "print(music_tuple[-1])  # Output: 1.2 (last element)\n",
    "print(music_tuple[-2])  # Output: 10 (second last element)\n",
    "print(music_tuple[-3])  # Output: disco (third last element)"
   ]
  },
  {
   "cell_type": "code",
   "execution_count": 3,
   "metadata": {},
   "outputs": [
    {
     "name": "stdout",
     "output_type": "stream",
     "text": [
      "('disco', 10, 1.2, 'hard rock', 10)\n",
      "('disco', 10, 1.2)\n",
      "('hard rock', 10)\n",
      "5\n",
      "[0, 2, 5, 6, 6, 8, 9, 9, 10]\n"
     ]
    }
   ],
   "source": [
    "# 3. Concatenate Tuples\n",
    "# Combine two tuples using the + operator.\n",
    "updated_music_tuple = music_tuple + (\"hard rock\", 10)\n",
    "print(updated_music_tuple)  # Output: ('disco', 10, 1.2, 'hard rock', 10)\n",
    "\n",
    "# 4. Slicing Tuples\n",
    "# Extract a portion of the tuple using slicing.\n",
    "print(updated_music_tuple[0:3])  # Output: ('disco', 10, 1.2) (elements from index 0 to 2)\n",
    "print(updated_music_tuple[3:5])  # Output: ('hard rock', 10) (elements from index 3 to 4)\n",
    "\n",
    "# Get the length of the tuple\n",
    "print(len(updated_music_tuple))  # Output: 5\n",
    "\n",
    "# 5. Sorting Tuples\n",
    "# Sort the elements of a tuple.\n",
    "ratings_tuple = (0, 9, 6, 5, 10, 8, 9, 6, 2)\n",
    "sorted_ratings = sorted(ratings_tuple)\n",
    "print(sorted_ratings)  # Output: [0, 2, 5, 6, 6, 8, 9, 9, 10]\n",
    "\n",
    "# 6. Nested Tuples\n",
    "# A tuple can contain other tuples and complex data types.\n",
    "nested_tuple = (1, 2, (\"pop\", \"rock\"), (3, 4), (\"disco\", (1, 2)))"
   ]
  },
  {
   "cell_type": "code",
   "execution_count": 4,
   "metadata": {},
   "outputs": [
    {
     "name": "stdout",
     "output_type": "stream",
     "text": [
      "Element 0 of Tuple:  1\n",
      "Element 1 of Tuple:  2\n",
      "Element 2 of Tuple:  ('pop', 'rock')\n",
      "Element 3 of Tuple:  (3, 4)\n",
      "Element 4 of Tuple:  ('disco', (1, 2))\n"
     ]
    }
   ],
   "source": [
    "# Access elements in the nested tuple\n",
    "print(\"Element 0 of Tuple: \", nested_tuple[0])  # Output: 1\n",
    "print(\"Element 1 of Tuple: \", nested_tuple[1])  # Output: 2\n",
    "print(\"Element 2 of Tuple: \", nested_tuple[2])  # Output: ('pop', 'rock')\n",
    "print(\"Element 3 of Tuple: \", nested_tuple[3])  # Output: (3, 4)\n",
    "print(\"Element 4 of Tuple: \", nested_tuple[4])  # Output: ('disco', (1, 2))"
   ]
  },
  {
   "cell_type": "code",
   "execution_count": 5,
   "metadata": {},
   "outputs": [
    {
     "name": "stdout",
     "output_type": "stream",
     "text": [
      "Element 2, 0 of Tuple:  pop\n",
      "Element 2, 1 of Tuple:  rock\n",
      "Element 3, 0 of Tuple:  3\n",
      "Element 3, 1 of Tuple:  4\n",
      "Element 4, 0 of Tuple:  disco\n",
      "Element 4, 1 of Tuple:  (1, 2)\n"
     ]
    }
   ],
   "source": [
    "# Access nested elements\n",
    "print(\"Element 2, 0 of Tuple: \", nested_tuple[2][0])  # Output: pop\n",
    "print(\"Element 2, 1 of Tuple: \", nested_tuple[2][1])  # Output: rock\n",
    "print(\"Element 3, 0 of Tuple: \", nested_tuple[3][0])  # Output: 3\n",
    "print(\"Element 3, 1 of Tuple: \", nested_tuple[3][1])  # Output: 4\n",
    "print(\"Element 4, 0 of Tuple: \", nested_tuple[4][0])  # Output: disco\n",
    "print(\"Element 4, 1 of Tuple: \", nested_tuple[4][1])  # Output: (1, 2)"
   ]
  },
  {
   "cell_type": "code",
   "execution_count": 6,
   "metadata": {},
   "outputs": [
    {
     "name": "stdout",
     "output_type": "stream",
     "text": [
      "1\n",
      "2\n",
      "8\n",
      "hard rock\n",
      "('hard rock', 'soft rock', 'R&B')\n",
      "('pop', 'rock')\n",
      "7\n",
      "[-5, -3, 1]\n"
     ]
    }
   ],
   "source": [
    "# Access deeper nested elements\n",
    "print(nested_tuple[4][1][0])  # Output: 1\n",
    "print(nested_tuple[4][1][1])  # Output: 2\n",
    "\n",
    "# 7. Quiz on Tuples\n",
    "# Consider the following tuple:\n",
    "genres_tuple = (\"pop\", \"rock\", \"soul\", \"hard rock\", \"soft rock\", \"R&B\", \"progressive rock\", \"disco\")\n",
    "\n",
    "# Find the length of the tuple\n",
    "print(len(genres_tuple))  # Output: 8\n",
    "\n",
    "# Access the element at index 3\n",
    "print(genres_tuple[3])  # Output: hard rock\n",
    "\n",
    "# Use slicing to obtain elements at indexes 3, 4, and 5\n",
    "print(genres_tuple[3:6])  # Output: ('hard rock', 'soft rock', 'R&B')\n",
    "\n",
    "# Find the first two elements of the tuple\n",
    "print(genres_tuple[0:2])  # Output: ('pop', 'rock')\n",
    "\n",
    "# Find the first index of \"disco\"\n",
    "print(genres_tuple.index(\"disco\"))  # Output: 7\n",
    "\n",
    "# Generate a sorted list from a tuple\n",
    "C_tuple = (-5, 1, -3)\n",
    "C_list = sorted(C_tuple)\n",
    "print(C_list)  # Output: [-5, -3, 1]"
   ]
  }
 ],
 "metadata": {
  "kernelspec": {
   "display_name": "Python 3 (ipykernel)",
   "language": "python",
   "name": "python3"
  },
  "language_info": {
   "codemirror_mode": {
    "name": "ipython",
    "version": 3
   },
   "file_extension": ".py",
   "mimetype": "text/x-python",
   "name": "python",
   "nbconvert_exporter": "python",
   "pygments_lexer": "ipython3",
   "version": "3.11.5"
  }
 },
 "nbformat": 4,
 "nbformat_minor": 4
}
